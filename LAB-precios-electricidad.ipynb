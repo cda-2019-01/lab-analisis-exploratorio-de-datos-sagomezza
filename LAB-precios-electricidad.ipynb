{
 "cells": [
  {
   "cell_type": "markdown",
   "metadata": {},
   "source": [
    "Evolución de los Precios de la Electricidad\n",
    "==="
   ]
  },
  {
   "cell_type": "markdown",
   "metadata": {},
   "source": [
    "# Instrucciones"
   ]
  },
  {
   "cell_type": "markdown",
   "metadata": {},
   "source": [
    "En el archivo `precios.zip`  se encuentran los archivos `Precio_Bolsa_Nacional_($kwh)_ano.xls` en formato de Microsoft Excel, los cuales contienen los precios históricos horarios de la electricidad para el mercado eléctrico Colombiano entre los años 1995 y 2017 en COL-PESOS/kWh. A partir de la información suministrada realice las siguientes actividades. "
   ]
  },
  {
   "cell_type": "markdown",
   "metadata": {},
   "source": [
    "**1.--** Lea los archivos y cree una tabla única concatenando la información para cada uno de los años. Debe transformar la tabla de tal forma que quede con las columnas `Fecha`, `Hora` y `Precio` (únicamente tres columnas)."
   ]
  },
  {
   "cell_type": "code",
   "execution_count": 1,
   "metadata": {},
   "outputs": [],
   "source": [
    "import matplotlib.pyplot as plt\n",
    "import matplotlib as mpl\n",
    "import pandas as pd\n",
    "import numpy as np\n",
    "import datetime as dt\n",
    "import glob\n",
    "\n",
    "%matplotlib inline"
   ]
  },
  {
   "cell_type": "code",
   "execution_count": 2,
   "metadata": {},
   "outputs": [],
   "source": [
    "def leer_precios(filename):\n",
    "    for i in range(10):\n",
    "        DataFrame = pd.read_excel(filename,skiprows = i ,usecols = list(range(25)))\n",
    "        if DataFrame.iloc[0,0] == 'Fecha':\n",
    "            DataFrame = pd.read_excel(filename,skiprows = i+1, usecols = list(range(25)))\n",
    "            break\n",
    "    return DataFrame"
   ]
  },
  {
   "cell_type": "code",
   "execution_count": 3,
   "metadata": {},
   "outputs": [
    {
     "data": {
      "text/plain": [
       "Index(['Fecha', 'Hora', 'Precio'], dtype='object')"
      ]
     },
     "execution_count": 3,
     "metadata": {},
     "output_type": "execute_result"
    }
   ],
   "source": [
    "filenames = !ls precios/*.xls*\n",
    "DataFrames = []\n",
    "for filename in filenames:\n",
    "    DataFrames.append(leer_precios(filename))\n",
    "DataFrames = pd.concat(DataFrames)\n",
    "DataFrames = pd.melt(DataFrames,id_vars = 'Fecha')\n",
    "DataFrames.columns = ['Fecha','Hora','Precio']\n",
    "DataFrames.columns"
   ]
  },
  {
   "cell_type": "code",
   "execution_count": 4,
   "metadata": {},
   "outputs": [],
   "source": [
    "#df = pd.read_excel('precios/Precio_Bolsa_Nacional_($kwh)_1996.xlsx', \n",
    " #                      skiprows=2, \n",
    "  #                     usecols = list(range(26)))\n",
    "#df.iloc[0,0]"
   ]
  },
  {
   "cell_type": "code",
   "execution_count": 5,
   "metadata": {},
   "outputs": [],
   "source": [
    "# def leer_precios(filename):\n",
    "#     for k in range(10):\n",
    "#         df = pd.read_excel(filename,\n",
    "#                            skiprows = k,\n",
    "#                            usecols = list(range(26)))\n",
    "#         if df.iloc[0,0] == 'Fecha':\n",
    "#             df = pd.read_excel(filename,\n",
    "#                                skiprows = k+1,\n",
    "#                                usecols = list(range(26)))\n",
    "#             break\n",
    "        \n",
    "#     return(df)"
   ]
  },
  {
   "cell_type": "code",
   "execution_count": 6,
   "metadata": {},
   "outputs": [],
   "source": [
    "# filenames = !ls precios/\n",
    "# dfs = []\n",
    "# for filename in filenames:\n",
    "#     dfs.append(leer_precios(\"precios/\"+filename))\n",
    "# dfs = pd.concat(dfs)\n",
    "# dfs.size"
   ]
  },
  {
   "cell_type": "code",
   "execution_count": 7,
   "metadata": {},
   "outputs": [],
   "source": [
    "# dfs1 = pd.melt(dfs,id_vars='Fecha')\n",
    "# dfs1"
   ]
  },
  {
   "cell_type": "code",
   "execution_count": 8,
   "metadata": {},
   "outputs": [],
   "source": [
    "# dfs1.columns"
   ]
  },
  {
   "cell_type": "markdown",
   "metadata": {},
   "source": [
    "**2.--** Compute e imprima el número de registros con datos faltantes."
   ]
  },
  {
   "cell_type": "code",
   "execution_count": 9,
   "metadata": {},
   "outputs": [],
   "source": [
    "# DataFrames.isnull().sum().sum()"
   ]
  },
  {
   "cell_type": "code",
   "execution_count": 10,
   "metadata": {},
   "outputs": [
    {
     "data": {
      "text/plain": [
       "238"
      ]
     },
     "execution_count": 10,
     "metadata": {},
     "output_type": "execute_result"
    }
   ],
   "source": [
    "df1 = DataFrames.dropna()\n",
    "DataFrames.shape[0] - df1.shape[0]"
   ]
  },
  {
   "cell_type": "markdown",
   "metadata": {},
   "source": [
    "**3.--** Compute e imprima el número de registros duplicados."
   ]
  },
  {
   "cell_type": "code",
   "execution_count": 11,
   "metadata": {},
   "outputs": [
    {
     "data": {
      "text/plain": [
       "1951"
      ]
     },
     "execution_count": 11,
     "metadata": {},
     "output_type": "execute_result"
    }
   ],
   "source": [
    "noRepeated = DataFrames.copy()\n",
    "noRepeated = noRepeated.drop_duplicates()\n",
    "repeated =  len(DataFrames.index) - len(noRepeated.index)\n",
    "repeated"
   ]
  },
  {
   "cell_type": "markdown",
   "metadata": {},
   "source": [
    "**4.--** Elimine los registros con datos duplicados o datos faltantes, e imprima la cantidad de registros que quedan (registros completos)."
   ]
  },
  {
   "cell_type": "code",
   "execution_count": 12,
   "metadata": {},
   "outputs": [
    {
     "data": {
      "text/plain": [
       "199819"
      ]
     },
     "execution_count": 12,
     "metadata": {},
     "output_type": "execute_result"
    }
   ],
   "source": [
    "noRepeated = noRepeated.dropna()\n",
    "len(noRepeated.index)"
   ]
  },
  {
   "cell_type": "markdown",
   "metadata": {},
   "source": [
    "**5.--** Compute y grafique el precio primedio diario."
   ]
  },
  {
   "cell_type": "code",
   "execution_count": 13,
   "metadata": {},
   "outputs": [],
   "source": [
    "# Recordatorio SIEMPRE TRABAJAR SOBRE UNA COPIA DEL DATAFRAME..."
   ]
  },
  {
   "cell_type": "code",
   "execution_count": 14,
   "metadata": {},
   "outputs": [],
   "source": [
    "df2 = DataFrames.copy()\n",
    "df2['dia'] = pd.DatetimeIndex(df2['Fecha']).day\n",
    "df2['mes'] = pd.DatetimeIndex(df2['Fecha']).month"
   ]
  },
  {
   "cell_type": "code",
   "execution_count": 15,
   "metadata": {},
   "outputs": [],
   "source": [
    "x = df2.groupby('dia')['Precio'].mean()"
   ]
  },
  {
   "cell_type": "code",
   "execution_count": 16,
   "metadata": {},
   "outputs": [
    {
     "data": {
      "text/plain": [
       "<matplotlib.axes._subplots.AxesSubplot at 0x7f4c326df6a0>"
      ]
     },
     "execution_count": 16,
     "metadata": {},
     "output_type": "execute_result"
    },
    {
     "data": {
      "image/png": "[encoded data removed]",
      "text/plain": [
       "<Figure size 432x288 with 1 Axes>"
      ]
     },
     "metadata": {
      "needs_background": "light"
     },
     "output_type": "display_data"
    }
   ],
   "source": [
    "x.plot(kind=\"bar\")"
   ]
  },
  {
   "cell_type": "markdown",
   "metadata": {},
   "source": [
    "**6.--** Compute y grafique el precio máximo por mes."
   ]
  },
  {
   "cell_type": "code",
   "execution_count": 17,
   "metadata": {},
   "outputs": [],
   "source": [
    "y = df2.groupby('mes')['Precio'].max()"
   ]
  },
  {
   "cell_type": "code",
   "execution_count": 18,
   "metadata": {},
   "outputs": [
    {
     "data": {
      "text/plain": [
       "<matplotlib.axes._subplots.AxesSubplot at 0x7f4c3271de10>"
      ]
     },
     "execution_count": 18,
     "metadata": {},
     "output_type": "execute_result"
    },
    {
     "data": {
      "image/png": "[encoded data removed]",
      "text/plain": [
       "<Figure size 432x288 with 1 Axes>"
      ]
     },
     "metadata": {
      "needs_background": "light"
     },
     "output_type": "display_data"
    }
   ],
   "source": [
    "y.plot(kind=\"bar\")"
   ]
  },
  {
   "cell_type": "markdown",
   "metadata": {},
   "source": [
    "**7.--** Compute y grafique el precio mínimo mensual."
   ]
  },
  {
   "cell_type": "code",
   "execution_count": 19,
   "metadata": {},
   "outputs": [],
   "source": [
    "z = df2.groupby('mes')['Precio'].min()"
   ]
  },
  {
   "cell_type": "code",
   "execution_count": 20,
   "metadata": {},
   "outputs": [
    {
     "data": {
      "text/plain": [
       "<matplotlib.axes._subplots.AxesSubplot at 0x7f4c3209b2e8>"
      ]
     },
     "execution_count": 20,
     "metadata": {},
     "output_type": "execute_result"
    },
    {
     "data": {
      "image/png": "[encoded data removed]",
      "text/plain": [
       "<Figure size 432x288 with 1 Axes>"
      ]
     },
     "metadata": {
      "needs_background": "light"
     },
     "output_type": "display_data"
    }
   ],
   "source": [
    "z.plot(kind=\"bar\")"
   ]
  },
  {
   "cell_type": "markdown",
   "metadata": {},
   "source": [
    "**8.--** Haga un gráfico para comparar el precio máximo del mes (para cada mes) y el precio promedio mensual."
   ]
  },
  {
   "cell_type": "code",
   "execution_count": 21,
   "metadata": {},
   "outputs": [],
   "source": [
    "maxPrices = df2.groupby('mes')['Precio'].max()\n",
    "meanPrices = df2.groupby('mes')['Precio'].mean()"
   ]
  },
  {
   "cell_type": "code",
   "execution_count": 22,
   "metadata": {},
   "outputs": [
    {
     "data": {
      "text/plain": [
       "<matplotlib.axes._subplots.AxesSubplot at 0x7f4c328ce8d0>"
      ]
     },
     "execution_count": 22,
     "metadata": {},
     "output_type": "execute_result"
    },
    {
     "data": {
      "image/png": "[encoded data removed]",
      "text/plain": [
       "<Figure size 432x288 with 2 Axes>"
      ]
     },
     "metadata": {
      "needs_background": "light"
     },
     "output_type": "display_data"
    }
   ],
   "source": [
    "fig, axes = plt.subplots(nrows=1, ncols=2)\n",
    "maxPrices.plot(kind=\"bar\", ax=axes[0])\n",
    "meanPrices.plot(kind=\"bar\", ax=axes[1])"
   ]
  },
  {
   "cell_type": "markdown",
   "metadata": {},
   "source": [
    "**9.--** Haga un histograma que muestre a que horas se produce el máximo precio diario para los días laborales."
   ]
  },
  {
   "cell_type": "code",
   "execution_count": 23,
   "metadata": {},
   "outputs": [
    {
     "data": {
      "text/plain": [
       "Text(0, 0.5, 'Datos')"
      ]
     },
     "execution_count": 23,
     "metadata": {},
     "output_type": "execute_result"
    },
    {
     "data": {
      "image/png": "[encoded data removed]",
      "text/plain": [
       "<Figure size 432x288 with 1 Axes>"
      ]
     },
     "metadata": {
      "needs_background": "light"
     },
     "output_type": "display_data"
    }
   ],
   "source": [
    "dfDay = noRepeated.copy()\n",
    "dfDay['Fecha'] = pd.to_datetime(dfDay['Fecha'])\n",
    "dfDay['Dia'] =  dfDay[['Fecha']].apply(lambda x: dt.datetime.strftime(x['Fecha'], '%A'), axis=1)\n",
    "laboralDays = ['Monday', 'Tuesday', 'Wednesday', 'Thursday', 'Friday']\n",
    "dfLaboralDays = dfDay[(dfDay['Dia'] == 'Monday') | (dfDay['Dia'] == 'Tuesday')| (dfDay['Dia'] == 'Wednesday')| (dfDay['Dia'] == 'Thursday')| (dfDay['Dia'] == 'Friday')]\n",
    "dfDate = dfLaboralDays.groupby('Fecha').agg({'Precio': np.max}) \n",
    "dfDate.reset_index(inplace=True)\n",
    "dfMerge = pd.merge(dfLaboralDays, dfDate, on=['Fecha','Precio'], how='inner')\n",
    "dfFinal = list(map(int,dfMerge['Hora'].tolist()))\n",
    "plt.hist(dfFinal, bins=24)\n",
    "plt.title('Horas laborales en que se produce el máximo precio diario')\n",
    "plt.xlabel('Horas')\n",
    "plt.ylabel('Datos')"
   ]
  },
  {
   "cell_type": "code",
   "execution_count": null,
   "metadata": {},
   "outputs": [],
   "source": []
  },
  {
   "cell_type": "markdown",
   "metadata": {},
   "source": [
    "**10.--** Haga un histograma que muestre a que horas se produce el máximo precio diario para los días sabado."
   ]
  },
  {
   "cell_type": "code",
   "execution_count": 24,
   "metadata": {},
   "outputs": [
    {
     "data": {
      "text/plain": [
       "Text(0, 0.5, 'Datos')"
      ]
     },
     "execution_count": 24,
     "metadata": {},
     "output_type": "execute_result"
    },
    {
     "data": {
      "image/png": "[encoded data removed]",
      "text/plain": [
       "<Figure size 432x288 with 1 Axes>"
      ]
     },
     "metadata": {
      "needs_background": "light"
     },
     "output_type": "display_data"
    }
   ],
   "source": [
    "dfSaturday =  dfDay[(dfDay['Dia'] == 'Saturday') ]\n",
    "dfDate = dfSaturday.groupby('Fecha').agg({'Precio': np.max}) \n",
    "dfDate.reset_index(inplace=True)\n",
    "dfMerge = pd.merge(dfSaturday, dfDate, on=['Fecha','Precio'], how='inner')\n",
    "dfFinal = list(map(int,dfMerge['Hora'].tolist()))\n",
    "plt.hist(dfFinal, bins=24)\n",
    "plt.title('Precio máximo en horas del \"Sabado\"')\n",
    "plt.xlabel('Horas')\n",
    "plt.ylabel('Datos')"
   ]
  },
  {
   "cell_type": "markdown",
   "metadata": {},
   "source": [
    "**11.--** Haga un histograma que muestre a que horas se produce el máximo precio diario para los días domingo."
   ]
  },
  {
   "cell_type": "code",
   "execution_count": 25,
   "metadata": {},
   "outputs": [
    {
     "data": {
      "text/plain": [
       "Text(0, 0.5, 'Datos')"
      ]
     },
     "execution_count": 25,
     "metadata": {},
     "output_type": "execute_result"
    },
    {
     "data": {
      "image/png": "[encoded data removed]",
      "text/plain": [
       "<Figure size 432x288 with 1 Axes>"
      ]
     },
     "metadata": {
      "needs_background": "light"
     },
     "output_type": "display_data"
    }
   ],
   "source": [
    "dfSunday =  dfDay[(dfDay['Dia'] == 'Sunday') ]\n",
    "dfDate = dfSunday.groupby('Fecha').agg({'Precio': np.max}) \n",
    "dfDate.reset_index(inplace=True)\n",
    "dfMerge = pd.merge(dfSunday, dfDate, on=['Fecha','Precio'], how='inner')\n",
    "dfFinal = list(map(int,dfMerge['Hora'].tolist()))\n",
    "plt.hist(dfFinal, bins=24)\n",
    "plt.title('Precio máximo en horas del \"Domingo\"')\n",
    "plt.xlabel('Horas')\n",
    "plt.ylabel('Datos')"
   ]
  },
  {
   "cell_type": "markdown",
   "metadata": {},
   "source": [
    "**12.--** Imprima una tabla con la fecha y el valor más bajo por año del precio de bolsa."
   ]
  },
  {
   "cell_type": "code",
   "execution_count": 26,
   "metadata": {},
   "outputs": [
    {
     "name": "stdout",
     "output_type": "stream",
     "text": [
      "            Fecha  Precio_Minimo\n",
      "7      1995-07-28       0.000000\n",
      "10     1995-07-31       0.000000\n",
      "11     1995-08-01       0.000000\n",
      "84     1995-10-13       0.000000\n",
      "338    1995-07-29       0.000000\n",
      "339    1995-07-30       0.000000\n",
      "3800   1995-07-26       0.000000\n",
      "4140   1996-06-30       0.000000\n",
      "4149   1996-07-09       0.000000\n",
      "4152   1996-07-12       0.000000\n",
      "4162   1996-07-22       0.000000\n",
      "4163   1996-07-23       0.000000\n",
      "4164   1996-07-24       0.000000\n",
      "4876   1996-07-04       0.000000\n",
      "5981   1996-07-11       0.000000\n",
      "7749   1996-05-10       0.000000\n",
      "9651   1996-07-21       0.000000\n",
      "12566  1996-07-08       0.000000\n",
      "13668  1997-07-15      10.882310\n",
      "21695  1998-07-12      13.847330\n",
      "21696  1998-07-13      13.847330\n",
      "21697  1998-07-14      13.847330\n",
      "21698  1998-07-15      13.847330\n",
      "21699  1998-07-16      13.847330\n",
      "21701  1998-07-18      13.847330\n",
      "21702  1998-07-19      13.847330\n",
      "21703  1998-07-20      13.847330\n",
      "21704  1998-07-21      13.847330\n",
      "21705  1998-07-22      13.847330\n",
      "21706  1998-07-23      13.847330\n",
      "...           ...            ...\n",
      "32539  1999-03-28      18.359530\n",
      "37652  1999-03-31      18.359530\n",
      "41303  2000-03-25      21.531167\n",
      "41304  2000-03-26      21.531167\n",
      "41306  2000-03-28      21.531167\n",
      "44233  2000-03-27      21.531167\n",
      "45333  2000-03-29      21.531167\n",
      "45335  2000-03-31      21.531167\n",
      "49133  2001-08-20      24.822879\n",
      "56685  2002-04-29      26.777682\n",
      "57041  2002-04-20      26.777682\n",
      "57046  2002-04-25      26.777682\n",
      "57409  2002-04-23      26.777682\n",
      "65371  2003-02-14      37.013438\n",
      "74541  2004-03-29      32.252998\n",
      "83147  2005-10-04      27.581415\n",
      "92650  2006-10-17      26.714797\n",
      "100513 2007-05-03      30.173824\n",
      "109297 2008-05-26      29.199135\n",
      "118290 2009-12-22      32.892503\n",
      "118657 2009-12-24      32.892503\n",
      "126887 2010-07-12      32.024957\n",
      "135611 2011-06-06      33.291100\n",
      "146530 2012-04-29      34.988099\n",
      "153007 2013-01-09      40.415346\n",
      "162495 2014-01-11      38.941951\n",
      "171250 2015-01-06      46.791501\n",
      "179618 2016-12-09      61.100689\n",
      "188145 2017-03-28      60.312095\n",
      "197289 2018-04-06      61.457224\n",
      "\n",
      "[71 rows x 2 columns]\n"
     ]
    }
   ],
   "source": [
    "dfDay['Ano'] =  dfDay[['Fecha']].apply(lambda x: dt.datetime.strftime(x['Fecha'], '%Y'), axis=1)\n",
    "dfDate = dfDay.groupby('Ano').agg({'Precio': np.min}) \n",
    "dfDate.reset_index(inplace=True)\n",
    "dfDate.columns = [\"Ano\",\"Precio_Minimo\"]\n",
    "dfMerge = pd.merge(dfDate, dfDay, on = ['Ano'], how ='inner')\n",
    "dfMerge = dfMerge[(dfMerge['Precio_Minimo'] == dfMerge['Precio'])]\n",
    "print(dfMerge[['Fecha','Precio_Minimo']].drop_duplicates())"
   ]
  },
  {
   "cell_type": "markdown",
   "metadata": {},
   "source": [
    "**13.--** Haga una gráfica en que se muestre el precio promedio diario y el precio promedio mensual."
   ]
  },
  {
   "cell_type": "code",
   "execution_count": 27,
   "metadata": {},
   "outputs": [],
   "source": [
    "dfMonth =  noRepeated.copy()\n",
    "dfMonth['Fecha'] = pd.to_datetime(dfMonth['Fecha'])\n",
    "dfMonth['Mes'] =  dfMonth[['Fecha']].apply(lambda x: dt.datetime.strftime(x['Fecha'], '%m'), axis=1)\n",
    "dfMonth['Ano'] =  dfMonth[['Fecha']].apply(lambda x: dt.datetime.strftime(x['Fecha'], '%Y'), axis=1)\n",
    "dfAnoxMes = dfMonth.groupby(['Mes','Ano']).agg({'Precio': np.mean}) \n",
    "dfAnoxMes.reset_index(inplace=True)\n",
    "dfAnoxMes.columns = ['Mes','Ano','Promedio_Por_Mes']"
   ]
  },
  {
   "cell_type": "code",
   "execution_count": 28,
   "metadata": {},
   "outputs": [],
   "source": [
    "dfDay = noRepeated.copy()\n",
    "dfDay['Fecha'] = pd.to_datetime(dfDay['Fecha'])\n",
    "dfDay = dfDay.groupby('Fecha').agg({'Precio': np.mean}) \n",
    "dfDay.reset_index(inplace=True)\n",
    "dfDay.columns = ['Fecha','Precio_Por_Dia']"
   ]
  },
  {
   "cell_type": "code",
   "execution_count": 29,
   "metadata": {},
   "outputs": [],
   "source": [
    "dfMerge = pd.merge(dfAnoxMes, dfMonth, on = ['Mes','Ano'], how ='inner')\n",
    "dfMerge = pd.merge(dfMerge, dfDay, on = ['Fecha'], how ='inner')\n",
    "dfGraf = dfMerge.groupby('Fecha').agg({'Precio_Por_Dia': np.mean,'Promedio_Por_Mes': np.mean}) "
   ]
  },
  {
   "cell_type": "code",
   "execution_count": 30,
   "metadata": {},
   "outputs": [
    {
     "data": {
      "text/plain": [
       "<matplotlib.legend.Legend at 0x7f4c2ea72358>"
      ]
     },
     "execution_count": 30,
     "metadata": {},
     "output_type": "execute_result"
    },
    {
     "data": {
      "text/plain": [
       "<Figure size 1440x1440 with 0 Axes>"
      ]
     },
     "metadata": {},
     "output_type": "display_data"
    },
    {
     "data": {
      "image/png": "[encoded data removed]",
      "text/plain": [
       "<Figure size 432x288 with 1 Axes>"
      ]
     },
     "metadata": {
      "needs_background": "light"
     },
     "output_type": "display_data"
    }
   ],
   "source": [
    "plt.figure(figsize=(20, 20))\n",
    "fig, ax = plt.subplots()\n",
    "ax.plot((dfGraf.index.tolist()), dfGraf['Precio_Por_Dia'], label=\"Precio promedio por día\")\n",
    "ax.plot((dfGraf.index.tolist()), dfGraf['Promedio_Por_Mes'], label=\"Precio promedio por mes\")\n",
    "plt.xlabel(\"Ano\")\n",
    "plt.ylabel(\"Precio\")\n",
    "\n",
    "ax.legend()"
   ]
  },
  {
   "cell_type": "markdown",
   "metadata": {},
   "source": [
    "---"
   ]
  }
 ],
 "metadata": {
  "anaconda-cloud": {},
  "kernel_info": {
   "name": "python3"
  },
  "kernelspec": {
   "display_name": "Python 3",
   "language": "python",
   "name": "python3"
  },
  "language_info": {
   "codemirror_mode": {
    "name": "ipython",
    "version": 3
   },
   "file_extension": ".py",
   "mimetype": "text/x-python",
   "name": "python",
   "nbconvert_exporter": "python",
   "pygments_lexer": "ipython3",
   "version": "3.6.7"
  },
  "nteract": {
   "version": "0.7.1"
  }
 },
 "nbformat": 4,
 "nbformat_minor": 2
}
